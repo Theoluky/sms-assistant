{
 "cells": [
  {
   "cell_type": "code",
   "execution_count": 1,
   "id": "26e017d0-2b93-4631-8b0b-b7edf7ba3278",
   "metadata": {},
   "outputs": [
    {
     "name": "stdout",
     "output_type": "stream",
     "text": [
      "Collecting telnyx\n",
      "  Obtaining dependency information for telnyx from https://files.pythonhosted.org/packages/63/dd/b9f732ca37a979014ac703d3c4c33bb673ec54467961e24d151103e5b134/telnyx-2.1.5-py2.py3-none-any.whl.metadata\n",
      "  Downloading telnyx-2.1.5-py2.py3-none-any.whl.metadata (10 kB)\n",
      "Requirement already satisfied: requests>=2.20 in /Users/Theo/anaconda3/lib/python3.11/site-packages (from telnyx) (2.31.0)\n",
      "Requirement already satisfied: six>=1.16.0 in /Users/Theo/anaconda3/lib/python3.11/site-packages (from telnyx) (1.16.0)\n",
      "Collecting PyNaCl (from telnyx)\n",
      "  Obtaining dependency information for PyNaCl from https://files.pythonhosted.org/packages/ce/75/0b8ede18506041c0bf23ac4d8e2971b4161cd6ce630b177d0a08eb0d8857/PyNaCl-1.5.0-cp36-abi3-macosx_10_10_universal2.whl.metadata\n",
      "  Downloading PyNaCl-1.5.0-cp36-abi3-macosx_10_10_universal2.whl.metadata (8.7 kB)\n",
      "Requirement already satisfied: charset-normalizer<4,>=2 in /Users/Theo/anaconda3/lib/python3.11/site-packages (from requests>=2.20->telnyx) (2.0.4)\n",
      "Requirement already satisfied: idna<4,>=2.5 in /Users/Theo/anaconda3/lib/python3.11/site-packages (from requests>=2.20->telnyx) (3.4)\n",
      "Requirement already satisfied: urllib3<3,>=1.21.1 in /Users/Theo/anaconda3/lib/python3.11/site-packages (from requests>=2.20->telnyx) (1.26.16)\n",
      "Requirement already satisfied: certifi>=2017.4.17 in /Users/Theo/anaconda3/lib/python3.11/site-packages (from requests>=2.20->telnyx) (2023.7.22)\n",
      "Requirement already satisfied: cffi>=1.4.1 in /Users/Theo/anaconda3/lib/python3.11/site-packages (from PyNaCl->telnyx) (1.15.1)\n",
      "Requirement already satisfied: pycparser in /Users/Theo/anaconda3/lib/python3.11/site-packages (from cffi>=1.4.1->PyNaCl->telnyx) (2.21)\n",
      "Downloading telnyx-2.1.5-py2.py3-none-any.whl (94 kB)\n",
      "\u001b[2K   \u001b[90m━━━━━━━━━━━━━━━━━━━━━━━━━━━━━━━━━━━━━━━━\u001b[0m \u001b[32m94.6/94.6 kB\u001b[0m \u001b[31m5.9 MB/s\u001b[0m eta \u001b[36m0:00:00\u001b[0m\n",
      "\u001b[?25hDownloading PyNaCl-1.5.0-cp36-abi3-macosx_10_10_universal2.whl (349 kB)\n",
      "\u001b[2K   \u001b[90m━━━━━━━━━━━━━━━━━━━━━━━━━━━━━━━━━━━━━━━━\u001b[0m \u001b[32m349.9/349.9 kB\u001b[0m \u001b[31m16.0 MB/s\u001b[0m eta \u001b[36m0:00:00\u001b[0m\n",
      "Installing collected packages: PyNaCl, telnyx\n",
      "Successfully installed PyNaCl-1.5.0 telnyx-2.1.5\n",
      "Note: you may need to restart the kernel to use updated packages.\n"
     ]
    }
   ],
   "source": [
    "%pip install telnyx"
   ]
  },
  {
   "cell_type": "code",
   "execution_count": 2,
   "id": "ff21a670-88af-498e-88d8-8e9ba4525483",
   "metadata": {},
   "outputs": [],
   "source": [
    "import telnyx"
   ]
  },
  {
   "cell_type": "code",
   "execution_count": null,
   "id": "b879b562-76af-418f-902f-d1a9c820d15a",
   "metadata": {},
   "outputs": [],
   "source": []
  }
 ],
 "metadata": {
  "kernelspec": {
   "display_name": "Python 3 (ipykernel)",
   "language": "python",
   "name": "python3"
  },
  "language_info": {
   "codemirror_mode": {
    "name": "ipython",
    "version": 3
   },
   "file_extension": ".py",
   "mimetype": "text/x-python",
   "name": "python",
   "nbconvert_exporter": "python",
   "pygments_lexer": "ipython3",
   "version": "3.11.4"
  }
 },
 "nbformat": 4,
 "nbformat_minor": 5
}
